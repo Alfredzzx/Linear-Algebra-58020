{
  "nbformat": 4,
  "nbformat_minor": 0,
  "metadata": {
    "colab": {
      "name": "Practical Exam lab 1",
      "provenance": [],
      "authorship_tag": "ABX9TyPKvanyFCWLxeieze5M5pTL",
      "include_colab_link": true
    },
    "kernelspec": {
      "name": "python3",
      "display_name": "Python 3"
    },
    "language_info": {
      "name": "python"
    }
  },
  "cells": [
    {
      "cell_type": "markdown",
      "metadata": {
        "id": "view-in-github",
        "colab_type": "text"
      },
      "source": [
        "<a href=\"https://colab.research.google.com/github/Alfredzzx/Linear-Algebra-58020/blob/main/Practical_Exam_lab_1.ipynb\" target=\"_parent\"><img src=\"https://colab.research.google.com/assets/colab-badge.svg\" alt=\"Open In Colab\"/></a>"
      ]
    },
    {
      "cell_type": "markdown",
      "metadata": {
        "id": "SsUQVvvWmERa"
      },
      "source": [
        "Problem 1"
      ]
    },
    {
      "cell_type": "code",
      "metadata": {
        "colab": {
          "base_uri": "https://localhost:8080/"
        },
        "id": "bGlrvxsVlfqM",
        "outputId": "2bc0a937-d694-4806-c600-b68124228d4d"
      },
      "source": [
        "#numpy\n",
        "import numpy as np\n",
        "W = np.array([[1,-3],[2,-2],[3,1]])\n",
        "print(W)\n",
        "print()\n",
        "X = np.array([[3,2,1],[-1,2,3],[2,-1,1]])\n",
        "print(X)\n",
        "print()\n",
        "Y = np.array([[1,2,0],[0,-1,2]])\n",
        "print(Y)\n",
        "print()\n",
        "Z = np.array([[0,1],[2,3]])\n",
        "print(Z)\n",
        "print()\n",
        "dot = np.dot(W,Y)\n",
        "print(dot)\n",
        "print()\n",
        "print(Z+Z)\n",
        "print()\n",
        "dot = np.dot(3,X)\n",
        "print(dot)\n",
        "print()"
      ],
      "execution_count": 1,
      "outputs": [
        {
          "output_type": "stream",
          "name": "stdout",
          "text": [
            "[[ 1 -3]\n",
            " [ 2 -2]\n",
            " [ 3  1]]\n",
            "\n",
            "[[ 3  2  1]\n",
            " [-1  2  3]\n",
            " [ 2 -1  1]]\n",
            "\n",
            "[[ 1  2  0]\n",
            " [ 0 -1  2]]\n",
            "\n",
            "[[0 1]\n",
            " [2 3]]\n",
            "\n",
            "[[ 1  5 -6]\n",
            " [ 2  6 -4]\n",
            " [ 3  5  2]]\n",
            "\n",
            "[[0 2]\n",
            " [4 6]]\n",
            "\n",
            "[[ 9  6  3]\n",
            " [-3  6  9]\n",
            " [ 6 -3  3]]\n",
            "\n"
          ]
        }
      ]
    },
    {
      "cell_type": "markdown",
      "metadata": {
        "id": "hNuYAsCZmAlO"
      },
      "source": [
        "Problem 2\n"
      ]
    },
    {
      "cell_type": "code",
      "metadata": {
        "colab": {
          "base_uri": "https://localhost:8080/"
        },
        "id": "P49p0Va0lh38",
        "outputId": "5a419e27-1be1-4d66-faec-d29549a93332"
      },
      "source": [
        "#2) A\n",
        "Y = np.array([[1, 2, 0],[0,-1,2]])\n",
        "W = np.array([[1, -3],[2,-2],[3,1]])\n",
        "\n",
        "print(np.dot(Y,W)^2)"
      ],
      "execution_count": 2,
      "outputs": [
        {
          "output_type": "stream",
          "name": "stdout",
          "text": [
            "[[ 7 -5]\n",
            " [ 6  6]]\n"
          ]
        }
      ]
    },
    {
      "cell_type": "code",
      "metadata": {
        "colab": {
          "base_uri": "https://localhost:8080/"
        },
        "id": "Ijffgn2Ilrr6",
        "outputId": "1568ae96-4540-4152-fdeb-447ba0a724ce"
      },
      "source": [
        "#2) B\n",
        "import numpy as np\n",
        "W = np.array([[1, -3],[2,-2],[3,1]])\n",
        "print('Vector W is', W)"
      ],
      "execution_count": 3,
      "outputs": [
        {
          "output_type": "stream",
          "name": "stdout",
          "text": [
            "Vector W is [[ 1 -3]\n",
            " [ 2 -2]\n",
            " [ 3  1]]\n"
          ]
        }
      ]
    },
    {
      "cell_type": "code",
      "metadata": {
        "colab": {
          "base_uri": "https://localhost:8080/"
        },
        "id": "OOE_sltfluXo",
        "outputId": "10e05b6d-4d35-4f38-9c55-e17733a57255"
      },
      "source": [
        "import numpy as np\n",
        "Y = np.array([[1, 2, 0],[0,-1,2]])\n",
        "print('Vector Y is', Y)"
      ],
      "execution_count": 4,
      "outputs": [
        {
          "output_type": "stream",
          "name": "stdout",
          "text": [
            "Vector Y is [[ 1  2  0]\n",
            " [ 0 -1  2]]\n"
          ]
        }
      ]
    },
    {
      "cell_type": "code",
      "metadata": {
        "colab": {
          "base_uri": "https://localhost:8080/"
        },
        "id": "PKAuOxN1lxB6",
        "outputId": "ddb96678-5ecf-425c-beb2-2805f532ed7c"
      },
      "source": [
        "import numpy as np\n",
        "X = np.array([[3,2,1],[-1,2,3],[2,-1,1]])\n",
        "print('Vector X is', X)"
      ],
      "execution_count": 5,
      "outputs": [
        {
          "output_type": "stream",
          "name": "stdout",
          "text": [
            "Vector X is [[ 3  2  1]\n",
            " [-1  2  3]\n",
            " [ 2 -1  1]]\n"
          ]
        }
      ]
    },
    {
      "cell_type": "code",
      "metadata": {
        "colab": {
          "base_uri": "https://localhost:8080/"
        },
        "id": "_Lbo6ncalzg9",
        "outputId": "4a996825-7c5d-498b-a77b-bde2d995d95d"
      },
      "source": [
        "R = np.dot(W,Y)\n",
        "print(R)"
      ],
      "execution_count": 6,
      "outputs": [
        {
          "output_type": "stream",
          "name": "stdout",
          "text": [
            "[[ 1  5 -6]\n",
            " [ 2  6 -4]\n",
            " [ 3  5  2]]\n"
          ]
        }
      ]
    },
    {
      "cell_type": "code",
      "metadata": {
        "colab": {
          "base_uri": "https://localhost:8080/"
        },
        "id": "Cq6gIvrUl1KA",
        "outputId": "6c8a954b-9ca4-48d0-aabd-60a4cb16d219"
      },
      "source": [
        "print(np.subtract(R,X))\n",
        "#2) B answer"
      ],
      "execution_count": 7,
      "outputs": [
        {
          "output_type": "stream",
          "name": "stdout",
          "text": [
            "[[-2  3 -7]\n",
            " [ 3  4 -7]\n",
            " [ 1  6  1]]\n"
          ]
        }
      ]
    },
    {
      "cell_type": "code",
      "metadata": {
        "colab": {
          "base_uri": "https://localhost:8080/"
        },
        "id": "xHHqe25dl3PL",
        "outputId": "6c6de368-e7a5-4399-bcaa-ecf6335d66e7"
      },
      "source": [
        "#3) C\n",
        "import numpy as np\n",
        "W = np.array([[1, -3],[2,-2],[3,1]])\n",
        "print('Vector W is', W)"
      ],
      "execution_count": 8,
      "outputs": [
        {
          "output_type": "stream",
          "name": "stdout",
          "text": [
            "Vector W is [[ 1 -3]\n",
            " [ 2 -2]\n",
            " [ 3  1]]\n"
          ]
        }
      ]
    },
    {
      "cell_type": "code",
      "metadata": {
        "colab": {
          "base_uri": "https://localhost:8080/"
        },
        "id": "s7V6Wix3l5X_",
        "outputId": "843780d5-322c-4edb-98ef-b29a474098f6"
      },
      "source": [
        "import numpy as np\n",
        "Y = np.array([[1, 2, 0],[0,-1,2]])\n",
        "print('Vector Y is', Y)"
      ],
      "execution_count": 9,
      "outputs": [
        {
          "output_type": "stream",
          "name": "stdout",
          "text": [
            "Vector Y is [[ 1  2  0]\n",
            " [ 0 -1  2]]\n"
          ]
        }
      ]
    },
    {
      "cell_type": "code",
      "metadata": {
        "colab": {
          "base_uri": "https://localhost:8080/"
        },
        "id": "uycxKsQPl7Km",
        "outputId": "b27627dc-9df2-41db-a42e-bb4f443ddce1"
      },
      "source": [
        "import numpy as np \n",
        "Z = np.array([[0,1],[2,3]])\n",
        "print('Vector Z is', Z)"
      ],
      "execution_count": 10,
      "outputs": [
        {
          "output_type": "stream",
          "name": "stdout",
          "text": [
            "Vector Z is [[0 1]\n",
            " [2 3]]\n"
          ]
        }
      ]
    },
    {
      "cell_type": "code",
      "metadata": {
        "colab": {
          "base_uri": "https://localhost:8080/"
        },
        "id": "K7xmH26ul8mi",
        "outputId": "c33c1f75-91c2-442e-cbca-1ceb30162dd9"
      },
      "source": [
        "print(\"(YW - Z^2)\")\n",
        "print(np.dot(Y,W)-Z^2)"
      ],
      "execution_count": 11,
      "outputs": [
        {
          "output_type": "stream",
          "name": "stdout",
          "text": [
            "(YW - Z^2)\n",
            "[[ 7 -6]\n",
            " [ 0  3]]\n"
          ]
        }
      ]
    },
    {
      "cell_type": "code",
      "metadata": {
        "id": "6cO3hRYBl_cg"
      },
      "source": [
        ""
      ],
      "execution_count": null,
      "outputs": []
    }
  ]
}