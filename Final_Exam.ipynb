{
  "nbformat": 4,
  "nbformat_minor": 0,
  "metadata": {
    "colab": {
      "name": "Final Exam",
      "provenance": [],
      "authorship_tag": "ABX9TyMCjXwy0PhyRJ6PhzUk//j+",
      "include_colab_link": true
    },
    "kernelspec": {
      "name": "python3",
      "display_name": "Python 3"
    },
    "language_info": {
      "name": "python"
    }
  },
  "cells": [
    {
      "cell_type": "markdown",
      "metadata": {
        "id": "view-in-github",
        "colab_type": "text"
      },
      "source": [
        "<a href=\"https://colab.research.google.com/github/Alfredzzx/Linear-Algebra-58020/blob/main/Final_Exam.ipynb\" target=\"_parent\"><img src=\"https://colab.research.google.com/assets/colab-badge.svg\" alt=\"Open In Colab\"/></a>"
      ]
    },
    {
      "cell_type": "code",
      "source": [
        ""
      ],
      "metadata": {
        "id": "EZDCkV1KXSF9"
      },
      "execution_count": null,
      "outputs": []
    },
    {
      "cell_type": "markdown",
      "source": [
        "Problem 1. Student A, Student B, and Student C have a total of Php 89 cash in their banks. Student A has 6 less than Student C. Student B has 3 times what Student C has. How much does each student have? (30 points)"
      ],
      "metadata": {
        "id": "pmj690ZcXWPX"
      }
    },
    {
      "cell_type": "code",
      "source": [
        "import numpy as np\n",
        "eq1 = np.array([[1,1,1],[1,0,4],[0,0,5]])\n",
        "eq2 = np.array([[89],[89],[95]])\n",
        "amt = np.linalg.inv(eq1).dot(eq2)\n",
        "print(amt)"
      ],
      "metadata": {
        "colab": {
          "base_uri": "https://localhost:8080/"
        },
        "id": "QCg55slEXWhd",
        "outputId": "06458229-bfea-4683-82b0-1342a72cca8c"
      },
      "execution_count": 3,
      "outputs": [
        {
          "output_type": "stream",
          "name": "stdout",
          "text": [
            "[[13.]\n",
            " [57.]\n",
            " [19.]]\n"
          ]
        }
      ]
    },
    {
      "cell_type": "code",
      "source": [
        ""
      ],
      "metadata": {
        "id": "_SNFbwG9YMfF"
      },
      "execution_count": null,
      "outputs": []
    },
    {
      "cell_type": "markdown",
      "source": [
        "Problem 3. Consider the matrix, (40 points)\n",
        "\n"
      ],
      "metadata": {
        "id": "3m51Zo7cYu5M"
      }
    },
    {
      "cell_type": "code",
      "source": [
        "import numpy as np\n",
        "from scipy.linalg import solve\n",
        "from numpy.linalg import eig\n",
        "\n",
        "A = np.array([[8, 5, -6],\n",
        "              [-12, 9, 12],\n",
        "              [-3, -3, 5]])\n",
        "w,v = np.linalg.eig(A)\n",
        "print(\"THE EIGENVALUES IS/ARE:\",w)\n",
        "print(\"THE RIGHT EIGENVECTORS ARE:\",v)\n"
      ],
      "metadata": {
        "colab": {
          "base_uri": "https://localhost:8080/"
        },
        "id": "NTWKPqrPY5Vq",
        "outputId": "b250c2cb-97c6-41b0-af7c-195e501a4c37"
      },
      "execution_count": 4,
      "outputs": [
        {
          "output_type": "stream",
          "name": "stdout",
          "text": [
            "THE EIGENVALUES IS/ARE: [10.+9.74679434j 10.-9.74679434j  2.+0.j        ]\n",
            "THE RIGHT EIGENVECTORS ARE: [[-6.19826768e-02-0.44653265j -6.19826768e-02+0.44653265j\n",
            "   7.07106781e-01+0.j        ]\n",
            " [ 8.56977879e-01+0.j          8.56977879e-01-0.j\n",
            "  -1.66861154e-16+0.j        ]\n",
            " [ 9.43214647e-03+0.24953295j  9.43214647e-03-0.24953295j\n",
            "   7.07106781e-01+0.j        ]]\n"
          ]
        }
      ]
    },
    {
      "cell_type": "code",
      "source": [
        ""
      ],
      "metadata": {
        "id": "g4j98_KPY88w"
      },
      "execution_count": null,
      "outputs": []
    },
    {
      "cell_type": "markdown",
      "source": [
        "Problem 2. Solve each system: (30 points)\n"
      ],
      "metadata": {
        "id": "iPSnMWG-ZygE"
      }
    },
    {
      "cell_type": "markdown",
      "source": [
        "The problem cannot be solved because the one of the given is in a form of a singular matrix hence they are inconsistent and there will be no solutions."
      ],
      "metadata": {
        "id": "8K6z73j_Z1In"
      }
    },
    {
      "cell_type": "code",
      "source": [
        ""
      ],
      "metadata": {
        "id": "H_limB-DZy_n"
      },
      "execution_count": null,
      "outputs": []
    }
  ]
}