{
  "nbformat": 4,
  "nbformat_minor": 0,
  "metadata": {
    "colab": {
      "name": "python program\\",
      "provenance": [],
      "authorship_tag": "ABX9TyNvARaHuANX3s0tGKnoldj2",
      "include_colab_link": true
    },
    "kernelspec": {
      "name": "python3",
      "display_name": "Python 3"
    },
    "language_info": {
      "name": "python"
    }
  },
  "cells": [
    {
      "cell_type": "markdown",
      "metadata": {
        "id": "view-in-github",
        "colab_type": "text"
      },
      "source": [
        "<a href=\"https://colab.research.google.com/github/Alfredzzx/Linear-Algebra-58020/blob/main/python_program_.ipynb\" target=\"_parent\"><img src=\"https://colab.research.google.com/assets/colab-badge.svg\" alt=\"Open In Colab\"/></a>"
      ]
    },
    {
      "cell_type": "code",
      "execution_count": 1,
      "metadata": {
        "colab": {
          "base_uri": "https://localhost:8080/"
        },
        "id": "YdJezIC440oW",
        "outputId": "1daba41b-edef-4225-d47d-37c9d081c64f"
      },
      "outputs": [
        {
          "output_type": "stream",
          "name": "stdout",
          "text": [
            "Integral = 0.1\n"
          ]
        }
      ],
      "source": [
        "from math import e\n",
        "def f(x): return e**x\n",
        "a = -1\n",
        "b = 1\n",
        "n = 11\n",
        "h = (b-a)/n\n",
        "S = h*(f(a)+f(b))\n",
        "for i in range(1,n):\n",
        "    S+= (a+i*h)\n",
        "Integral=h*S\n",
        "print('Integral = %.1f' %Integral)"
      ]
    },
    {
      "cell_type": "code",
      "source": [
        ""
      ],
      "metadata": {
        "id": "sDBEWyYe4-Ru"
      },
      "execution_count": null,
      "outputs": []
    }
  ]
}