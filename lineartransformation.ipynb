{
  "nbformat": 4,
  "nbformat_minor": 0,
  "metadata": {
    "colab": {
      "name": "lineartransformation.ipynb",
      "provenance": [],
      "authorship_tag": "ABX9TyNpcvuJt/hwkmdSH8nOafvV",
      "include_colab_link": true
    },
    "kernelspec": {
      "name": "python3",
      "display_name": "Python 3"
    },
    "language_info": {
      "name": "python"
    }
  },
  "cells": [
    {
      "cell_type": "markdown",
      "metadata": {
        "id": "view-in-github",
        "colab_type": "text"
      },
      "source": [
        "<a href=\"https://colab.research.google.com/github/Alfredzzx/Linear-Algebra-58020/blob/main/lineartransformation.ipynb\" target=\"_parent\"><img src=\"https://colab.research.google.com/assets/colab-badge.svg\" alt=\"Open In Colab\"/></a>"
      ]
    },
    {
      "cell_type": "code",
      "metadata": {
        "colab": {
          "base_uri": "https://localhost:8080/"
        },
        "id": "zAOikJ8yrkh1",
        "outputId": "5f503679-c5c0-45ec-f8bd-c8f848dc9752"
      },
      "source": [
        "import numpy as np\n",
        "\n",
        "A = np.array([[4,10,8],[10,26,26],[8,26,26]])\n",
        "print(A)\n",
        "inv_A=np.linalg.inv(A)\n",
        "\n",
        "print(inv_A)\n",
        "B = np.array([[44],[128],[214]])"
      ],
      "execution_count": 3,
      "outputs": [
        {
          "output_type": "stream",
          "name": "stdout",
          "text": [
            "[[ 4 10  8]\n",
            " [10 26 26]\n",
            " [ 8 26 26]]\n",
            "[[ 0.          0.5        -0.5       ]\n",
            " [ 0.5        -0.38461538  0.23076923]\n",
            " [-0.5         0.23076923 -0.03846154]]\n"
          ]
        }
      ]
    },
    {
      "cell_type": "code",
      "metadata": {
        "id": "kavMKzhCrlEL"
      },
      "source": [
        ""
      ],
      "execution_count": null,
      "outputs": []
    }
  ]
}