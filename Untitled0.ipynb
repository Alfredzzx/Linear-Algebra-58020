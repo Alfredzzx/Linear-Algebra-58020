{
  "nbformat": 4,
  "nbformat_minor": 0,
  "metadata": {
    "colab": {
      "name": "Untitled0.ipynb",
      "provenance": [],
      "authorship_tag": "ABX9TyPAN+aFpVsqSIVIfL3+yx5t",
      "include_colab_link": true
    },
    "kernelspec": {
      "name": "python3",
      "display_name": "Python 3"
    },
    "language_info": {
      "name": "python"
    }
  },
  "cells": [
    {
      "cell_type": "markdown",
      "metadata": {
        "id": "view-in-github",
        "colab_type": "text"
      },
      "source": [
        "<a href=\"https://colab.research.google.com/github/Alfredzzx/Linear-Algebra-58020/blob/main/Untitled0.ipynb\" target=\"_parent\"><img src=\"https://colab.research.google.com/assets/colab-badge.svg\" alt=\"Open In Colab\"/></a>"
      ]
    },
    {
      "cell_type": "code",
      "metadata": {
        "colab": {
          "base_uri": "https://localhost:8080/"
        },
        "id": "l6mRjkV9I213",
        "outputId": "fdfd933e-9740-43ad-d026-cecbc3d6d84a"
      },
      "source": [
        "sum = A + B\n",
        "import numpy as np\n",
        "A = np.array([[-5,0],[4,1]])\n",
        "B = np.array ([[6,-3],[2,3]])\n",
        "sum = A + B\n",
        "print(sum)"
      ],
      "execution_count": 3,
      "outputs": [
        {
          "output_type": "stream",
          "name": "stdout",
          "text": [
            "[[ 1 -3]\n",
            " [ 6  4]]\n"
          ]
        }
      ]
    },
    {
      "cell_type": "code",
      "metadata": {
        "colab": {
          "base_uri": "https://localhost:8080/"
        },
        "id": "NfO_UyatK-bZ",
        "outputId": "3e73fbd2-0916-4640-9490-6050f7dfc2f3"
      },
      "source": [
        "difference1 = B - A\n",
        "import numpy as np\n",
        "A = np.array([[-5,0],[4,1]])\n",
        "B = np.array ([[6,-3],[2,3]])\n",
        "difference1 = B - A\n",
        "print(difference1)  "
      ],
      "execution_count": 4,
      "outputs": [
        {
          "output_type": "stream",
          "name": "stdout",
          "text": [
            "[[11 -3]\n",
            " [-2  2]]\n"
          ]
        }
      ]
    },
    {
      "cell_type": "code",
      "metadata": {
        "colab": {
          "base_uri": "https://localhost:8080/"
        },
        "id": "5OofRhj8LbDa",
        "outputId": "f2e9d419-452d-47f8-c726-3c8b06cb6e60"
      },
      "source": [
        "difference2 = A - B \n",
        "import numpy as np\n",
        "A = np.array([[-5,0],[4,1]])\n",
        "B = np.array ([[6,-3],[2,3]])\n",
        "difference2 = A - B\n",
        "print(difference2)"
      ],
      "execution_count": 5,
      "outputs": [
        {
          "output_type": "stream",
          "name": "stdout",
          "text": [
            "[[-11   3]\n",
            " [  2  -2]]\n"
          ]
        }
      ]
    },
    {
      "cell_type": "code",
      "metadata": {
        "id": "4axUwTMcLjUp"
      },
      "source": [
        ""
      ],
      "execution_count": null,
      "outputs": []
    }
  ]
}